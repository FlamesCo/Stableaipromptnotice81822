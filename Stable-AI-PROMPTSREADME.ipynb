{
 "cells": [
  {
   "cell_type": "code",
   "execution_count": null,
   "metadata": {},
   "outputs": [],
   "source": [
    "## STABLE.AI\n",
    "usage: !dream [-h] [--tokenize] [--height HEIGHT] [--width WIDTH]\n",
    "              [--cfg_scale CFG_SCALE] [--number NUMBER] [--separate-images]\n",
    "              [--grid] [--sampler SAMPLER] [--steps STEPS] [--seed SEED]\n",
    "              [--prior PRIOR] [--ascii] [--asciicols ASCIICOLS]\n",
    "              [prompt ...]\n",
    "\n",
    "positional arguments:\n",
    "  prompt\n",
    "\n",
    "optional arguments:\n",
    "  -h, --help\n",
    "  --tokenize, -t        show CLIP tokenization output\n",
    "  --height HEIGHT, -H HEIGHT\n",
    "                        [512] height of image (multiple of 64)\n",
    "  --width WIDTH, -W WIDTH\n",
    "                        [512] width of image (multiple of 64)\n",
    "  --cfg_scale CFG_SCALE, -C CFG_SCALE\n",
    "                        [7.0] CFG scale factor\n",
    "  --number NUMBER, -n NUMBER\n",
    "                        [1] number of images\n",
    "  --separate-images, -i\n",
    "                        Deprecated\n",
    "  --grid, -g            Composite multiple images into a grid.\n",
    "  --sampler SAMPLER, -A SAMPLER\n",
    "                        [k_lms] (ddim, plms, k_euler, k_euler_ancestral,\n",
    "                        k_heun, k_dpm_2, k_dpm_2_ancestral, k_lms)\n",
    "  --steps STEPS, -s STEPS\n",
    "                        [50] number of steps\n",
    "  --seed SEED, -S SEED  random seed to use\n",
    "  --prior PRIOR, -p PRIOR\n",
    "                        vector_adjust_prior\n",
    "  --ascii, -a           a trip back to 1970\n",
    "  --asciicols ASCIICOLS, -ac ASCIICOLS\n",
    "                        If ascii, number of text columnss"
   ]
  }
 ],
 "metadata": {
  "language_info": {
   "name": "python"
  },
  "orig_nbformat": 4
 },
 "nbformat": 4,
 "nbformat_minor": 2
}
